{
  "nbformat": 4,
  "nbformat_minor": 0,
  "metadata": {
    "colab": {
      "name": "buildregression.ipynb",
      "provenance": []
    },
    "kernelspec": {
      "name": "python3",
      "display_name": "Python 3"
    }
  },
  "cells": [
    {
      "cell_type": "markdown",
      "metadata": {
        "id": "37i-O0ACik0r",
        "colab_type": "text"
      },
      "source": [
        "Download and Clean DATA"
      ]
    },
    {
      "cell_type": "code",
      "metadata": {
        "id": "FKTnD9mKisNx",
        "colab_type": "code",
        "colab": {}
      },
      "source": [
        "import numpy as np\n",
        "import pandas as pd"
      ],
      "execution_count": 0,
      "outputs": []
    },
    {
      "cell_type": "markdown",
      "metadata": {
        "id": "M3O-AAE_jGax",
        "colab_type": "text"
      },
      "source": [
        "The dataset is about the compressive strength of different samples of concrete based on the volumes of the different ingredients that were used to make them. Ingredients include:\n",
        "\n",
        "1. Cement\n",
        "\n",
        "2. Blast Furnace Slag\n",
        "\n",
        "3. Fly Ash\n",
        "\n",
        "4. Water\n",
        "\n",
        "5. Superplasticizer\n",
        "\n",
        "6. Coarse Aggregate\n",
        "\n",
        "7. Fine Aggregate"
      ]
    },
    {
      "cell_type": "code",
      "metadata": {
        "id": "PzlJAeRrjPKy",
        "colab_type": "code",
        "colab": {
          "base_uri": "https://localhost:8080/",
          "height": 257
        },
        "outputId": "5b3fa8d8-6588-4d33-9781-dfba64304962"
      },
      "source": [
        "concretedf = pd.read_csv('https://cocl.us/concrete_data')\n",
        "concretedf.head()"
      ],
      "execution_count": 5,
      "outputs": [
        {
          "output_type": "execute_result",
          "data": {
            "text/html": [
              "<div>\n",
              "<style scoped>\n",
              "    .dataframe tbody tr th:only-of-type {\n",
              "        vertical-align: middle;\n",
              "    }\n",
              "\n",
              "    .dataframe tbody tr th {\n",
              "        vertical-align: top;\n",
              "    }\n",
              "\n",
              "    .dataframe thead th {\n",
              "        text-align: right;\n",
              "    }\n",
              "</style>\n",
              "<table border=\"1\" class=\"dataframe\">\n",
              "  <thead>\n",
              "    <tr style=\"text-align: right;\">\n",
              "      <th></th>\n",
              "      <th>Cement</th>\n",
              "      <th>Blast Furnace Slag</th>\n",
              "      <th>Fly Ash</th>\n",
              "      <th>Water</th>\n",
              "      <th>Superplasticizer</th>\n",
              "      <th>Coarse Aggregate</th>\n",
              "      <th>Fine Aggregate</th>\n",
              "      <th>Age</th>\n",
              "      <th>Strength</th>\n",
              "    </tr>\n",
              "  </thead>\n",
              "  <tbody>\n",
              "    <tr>\n",
              "      <th>0</th>\n",
              "      <td>540.0</td>\n",
              "      <td>0.0</td>\n",
              "      <td>0.0</td>\n",
              "      <td>162.0</td>\n",
              "      <td>2.5</td>\n",
              "      <td>1040.0</td>\n",
              "      <td>676.0</td>\n",
              "      <td>28</td>\n",
              "      <td>79.99</td>\n",
              "    </tr>\n",
              "    <tr>\n",
              "      <th>1</th>\n",
              "      <td>540.0</td>\n",
              "      <td>0.0</td>\n",
              "      <td>0.0</td>\n",
              "      <td>162.0</td>\n",
              "      <td>2.5</td>\n",
              "      <td>1055.0</td>\n",
              "      <td>676.0</td>\n",
              "      <td>28</td>\n",
              "      <td>61.89</td>\n",
              "    </tr>\n",
              "    <tr>\n",
              "      <th>2</th>\n",
              "      <td>332.5</td>\n",
              "      <td>142.5</td>\n",
              "      <td>0.0</td>\n",
              "      <td>228.0</td>\n",
              "      <td>0.0</td>\n",
              "      <td>932.0</td>\n",
              "      <td>594.0</td>\n",
              "      <td>270</td>\n",
              "      <td>40.27</td>\n",
              "    </tr>\n",
              "    <tr>\n",
              "      <th>3</th>\n",
              "      <td>332.5</td>\n",
              "      <td>142.5</td>\n",
              "      <td>0.0</td>\n",
              "      <td>228.0</td>\n",
              "      <td>0.0</td>\n",
              "      <td>932.0</td>\n",
              "      <td>594.0</td>\n",
              "      <td>365</td>\n",
              "      <td>41.05</td>\n",
              "    </tr>\n",
              "    <tr>\n",
              "      <th>4</th>\n",
              "      <td>198.6</td>\n",
              "      <td>132.4</td>\n",
              "      <td>0.0</td>\n",
              "      <td>192.0</td>\n",
              "      <td>0.0</td>\n",
              "      <td>978.4</td>\n",
              "      <td>825.5</td>\n",
              "      <td>360</td>\n",
              "      <td>44.30</td>\n",
              "    </tr>\n",
              "  </tbody>\n",
              "</table>\n",
              "</div>"
            ],
            "text/plain": [
              "   Cement  Blast Furnace Slag  Fly Ash  ...  Fine Aggregate  Age  Strength\n",
              "0   540.0                 0.0      0.0  ...           676.0   28     79.99\n",
              "1   540.0                 0.0      0.0  ...           676.0   28     61.89\n",
              "2   332.5               142.5      0.0  ...           594.0  270     40.27\n",
              "3   332.5               142.5      0.0  ...           594.0  365     41.05\n",
              "4   198.6               132.4      0.0  ...           825.5  360     44.30\n",
              "\n",
              "[5 rows x 9 columns]"
            ]
          },
          "metadata": {
            "tags": []
          },
          "execution_count": 5
        }
      ]
    },
    {
      "cell_type": "code",
      "metadata": {
        "id": "l9sWtyOVjcDq",
        "colab_type": "code",
        "colab": {
          "base_uri": "https://localhost:8080/",
          "height": 35
        },
        "outputId": "407c7ebc-b86a-409a-ffc8-b93c1e463a9b"
      },
      "source": [
        "concretedf.shape"
      ],
      "execution_count": 7,
      "outputs": [
        {
          "output_type": "execute_result",
          "data": {
            "text/plain": [
              "(1030, 9)"
            ]
          },
          "metadata": {
            "tags": []
          },
          "execution_count": 7
        }
      ]
    },
    {
      "cell_type": "code",
      "metadata": {
        "id": "LVlRabkjjmdW",
        "colab_type": "code",
        "colab": {
          "base_uri": "https://localhost:8080/",
          "height": 349
        },
        "outputId": "875be308-00a3-4650-9db0-4b1ba486caef"
      },
      "source": [
        "concretedf.describe()"
      ],
      "execution_count": 8,
      "outputs": [
        {
          "output_type": "execute_result",
          "data": {
            "text/html": [
              "<div>\n",
              "<style scoped>\n",
              "    .dataframe tbody tr th:only-of-type {\n",
              "        vertical-align: middle;\n",
              "    }\n",
              "\n",
              "    .dataframe tbody tr th {\n",
              "        vertical-align: top;\n",
              "    }\n",
              "\n",
              "    .dataframe thead th {\n",
              "        text-align: right;\n",
              "    }\n",
              "</style>\n",
              "<table border=\"1\" class=\"dataframe\">\n",
              "  <thead>\n",
              "    <tr style=\"text-align: right;\">\n",
              "      <th></th>\n",
              "      <th>Cement</th>\n",
              "      <th>Blast Furnace Slag</th>\n",
              "      <th>Fly Ash</th>\n",
              "      <th>Water</th>\n",
              "      <th>Superplasticizer</th>\n",
              "      <th>Coarse Aggregate</th>\n",
              "      <th>Fine Aggregate</th>\n",
              "      <th>Age</th>\n",
              "      <th>Strength</th>\n",
              "    </tr>\n",
              "  </thead>\n",
              "  <tbody>\n",
              "    <tr>\n",
              "      <th>count</th>\n",
              "      <td>1030.000000</td>\n",
              "      <td>1030.000000</td>\n",
              "      <td>1030.000000</td>\n",
              "      <td>1030.000000</td>\n",
              "      <td>1030.000000</td>\n",
              "      <td>1030.000000</td>\n",
              "      <td>1030.000000</td>\n",
              "      <td>1030.000000</td>\n",
              "      <td>1030.000000</td>\n",
              "    </tr>\n",
              "    <tr>\n",
              "      <th>mean</th>\n",
              "      <td>281.167864</td>\n",
              "      <td>73.895825</td>\n",
              "      <td>54.188350</td>\n",
              "      <td>181.567282</td>\n",
              "      <td>6.204660</td>\n",
              "      <td>972.918932</td>\n",
              "      <td>773.580485</td>\n",
              "      <td>45.662136</td>\n",
              "      <td>35.817961</td>\n",
              "    </tr>\n",
              "    <tr>\n",
              "      <th>std</th>\n",
              "      <td>104.506364</td>\n",
              "      <td>86.279342</td>\n",
              "      <td>63.997004</td>\n",
              "      <td>21.354219</td>\n",
              "      <td>5.973841</td>\n",
              "      <td>77.753954</td>\n",
              "      <td>80.175980</td>\n",
              "      <td>63.169912</td>\n",
              "      <td>16.705742</td>\n",
              "    </tr>\n",
              "    <tr>\n",
              "      <th>min</th>\n",
              "      <td>102.000000</td>\n",
              "      <td>0.000000</td>\n",
              "      <td>0.000000</td>\n",
              "      <td>121.800000</td>\n",
              "      <td>0.000000</td>\n",
              "      <td>801.000000</td>\n",
              "      <td>594.000000</td>\n",
              "      <td>1.000000</td>\n",
              "      <td>2.330000</td>\n",
              "    </tr>\n",
              "    <tr>\n",
              "      <th>25%</th>\n",
              "      <td>192.375000</td>\n",
              "      <td>0.000000</td>\n",
              "      <td>0.000000</td>\n",
              "      <td>164.900000</td>\n",
              "      <td>0.000000</td>\n",
              "      <td>932.000000</td>\n",
              "      <td>730.950000</td>\n",
              "      <td>7.000000</td>\n",
              "      <td>23.710000</td>\n",
              "    </tr>\n",
              "    <tr>\n",
              "      <th>50%</th>\n",
              "      <td>272.900000</td>\n",
              "      <td>22.000000</td>\n",
              "      <td>0.000000</td>\n",
              "      <td>185.000000</td>\n",
              "      <td>6.400000</td>\n",
              "      <td>968.000000</td>\n",
              "      <td>779.500000</td>\n",
              "      <td>28.000000</td>\n",
              "      <td>34.445000</td>\n",
              "    </tr>\n",
              "    <tr>\n",
              "      <th>75%</th>\n",
              "      <td>350.000000</td>\n",
              "      <td>142.950000</td>\n",
              "      <td>118.300000</td>\n",
              "      <td>192.000000</td>\n",
              "      <td>10.200000</td>\n",
              "      <td>1029.400000</td>\n",
              "      <td>824.000000</td>\n",
              "      <td>56.000000</td>\n",
              "      <td>46.135000</td>\n",
              "    </tr>\n",
              "    <tr>\n",
              "      <th>max</th>\n",
              "      <td>540.000000</td>\n",
              "      <td>359.400000</td>\n",
              "      <td>200.100000</td>\n",
              "      <td>247.000000</td>\n",
              "      <td>32.200000</td>\n",
              "      <td>1145.000000</td>\n",
              "      <td>992.600000</td>\n",
              "      <td>365.000000</td>\n",
              "      <td>82.600000</td>\n",
              "    </tr>\n",
              "  </tbody>\n",
              "</table>\n",
              "</div>"
            ],
            "text/plain": [
              "            Cement  Blast Furnace Slag  ...          Age     Strength\n",
              "count  1030.000000         1030.000000  ...  1030.000000  1030.000000\n",
              "mean    281.167864           73.895825  ...    45.662136    35.817961\n",
              "std     104.506364           86.279342  ...    63.169912    16.705742\n",
              "min     102.000000            0.000000  ...     1.000000     2.330000\n",
              "25%     192.375000            0.000000  ...     7.000000    23.710000\n",
              "50%     272.900000           22.000000  ...    28.000000    34.445000\n",
              "75%     350.000000          142.950000  ...    56.000000    46.135000\n",
              "max     540.000000          359.400000  ...   365.000000    82.600000\n",
              "\n",
              "[8 rows x 9 columns]"
            ]
          },
          "metadata": {
            "tags": []
          },
          "execution_count": 8
        }
      ]
    },
    {
      "cell_type": "code",
      "metadata": {
        "id": "m9HcG_3ajrQQ",
        "colab_type": "code",
        "colab": {
          "base_uri": "https://localhost:8080/",
          "height": 191
        },
        "outputId": "55ace5d9-bb11-4c27-f093-fcdf7c411aa7"
      },
      "source": [
        "concretedf.isnull().sum()"
      ],
      "execution_count": 10,
      "outputs": [
        {
          "output_type": "execute_result",
          "data": {
            "text/plain": [
              "Cement                0\n",
              "Blast Furnace Slag    0\n",
              "Fly Ash               0\n",
              "Water                 0\n",
              "Superplasticizer      0\n",
              "Coarse Aggregate      0\n",
              "Fine Aggregate        0\n",
              "Age                   0\n",
              "Strength              0\n",
              "dtype: int64"
            ]
          },
          "metadata": {
            "tags": []
          },
          "execution_count": 10
        }
      ]
    },
    {
      "cell_type": "code",
      "metadata": {
        "id": "-zOyakmGjwq7",
        "colab_type": "code",
        "colab": {}
      },
      "source": [
        "concretecol = concretedf.columns\n",
        "predictors = concretedf[concretecol[concretecol != 'Strength']]\n",
        "target = concretedf['Strength']"
      ],
      "execution_count": 0,
      "outputs": []
    },
    {
      "cell_type": "code",
      "metadata": {
        "id": "04EoVABfkMU2",
        "colab_type": "code",
        "colab": {
          "base_uri": "https://localhost:8080/",
          "height": 237
        },
        "outputId": "4df47b83-95f6-41e2-a9b2-316d6b273061"
      },
      "source": [
        "predictors.head()"
      ],
      "execution_count": 12,
      "outputs": [
        {
          "output_type": "execute_result",
          "data": {
            "text/html": [
              "<div>\n",
              "<style scoped>\n",
              "    .dataframe tbody tr th:only-of-type {\n",
              "        vertical-align: middle;\n",
              "    }\n",
              "\n",
              "    .dataframe tbody tr th {\n",
              "        vertical-align: top;\n",
              "    }\n",
              "\n",
              "    .dataframe thead th {\n",
              "        text-align: right;\n",
              "    }\n",
              "</style>\n",
              "<table border=\"1\" class=\"dataframe\">\n",
              "  <thead>\n",
              "    <tr style=\"text-align: right;\">\n",
              "      <th></th>\n",
              "      <th>Cement</th>\n",
              "      <th>Blast Furnace Slag</th>\n",
              "      <th>Fly Ash</th>\n",
              "      <th>Water</th>\n",
              "      <th>Superplasticizer</th>\n",
              "      <th>Coarse Aggregate</th>\n",
              "      <th>Fine Aggregate</th>\n",
              "      <th>Age</th>\n",
              "    </tr>\n",
              "  </thead>\n",
              "  <tbody>\n",
              "    <tr>\n",
              "      <th>0</th>\n",
              "      <td>540.0</td>\n",
              "      <td>0.0</td>\n",
              "      <td>0.0</td>\n",
              "      <td>162.0</td>\n",
              "      <td>2.5</td>\n",
              "      <td>1040.0</td>\n",
              "      <td>676.0</td>\n",
              "      <td>28</td>\n",
              "    </tr>\n",
              "    <tr>\n",
              "      <th>1</th>\n",
              "      <td>540.0</td>\n",
              "      <td>0.0</td>\n",
              "      <td>0.0</td>\n",
              "      <td>162.0</td>\n",
              "      <td>2.5</td>\n",
              "      <td>1055.0</td>\n",
              "      <td>676.0</td>\n",
              "      <td>28</td>\n",
              "    </tr>\n",
              "    <tr>\n",
              "      <th>2</th>\n",
              "      <td>332.5</td>\n",
              "      <td>142.5</td>\n",
              "      <td>0.0</td>\n",
              "      <td>228.0</td>\n",
              "      <td>0.0</td>\n",
              "      <td>932.0</td>\n",
              "      <td>594.0</td>\n",
              "      <td>270</td>\n",
              "    </tr>\n",
              "    <tr>\n",
              "      <th>3</th>\n",
              "      <td>332.5</td>\n",
              "      <td>142.5</td>\n",
              "      <td>0.0</td>\n",
              "      <td>228.0</td>\n",
              "      <td>0.0</td>\n",
              "      <td>932.0</td>\n",
              "      <td>594.0</td>\n",
              "      <td>365</td>\n",
              "    </tr>\n",
              "    <tr>\n",
              "      <th>4</th>\n",
              "      <td>198.6</td>\n",
              "      <td>132.4</td>\n",
              "      <td>0.0</td>\n",
              "      <td>192.0</td>\n",
              "      <td>0.0</td>\n",
              "      <td>978.4</td>\n",
              "      <td>825.5</td>\n",
              "      <td>360</td>\n",
              "    </tr>\n",
              "  </tbody>\n",
              "</table>\n",
              "</div>"
            ],
            "text/plain": [
              "   Cement  Blast Furnace Slag  Fly Ash  ...  Coarse Aggregate  Fine Aggregate  Age\n",
              "0   540.0                 0.0      0.0  ...            1040.0           676.0   28\n",
              "1   540.0                 0.0      0.0  ...            1055.0           676.0   28\n",
              "2   332.5               142.5      0.0  ...             932.0           594.0  270\n",
              "3   332.5               142.5      0.0  ...             932.0           594.0  365\n",
              "4   198.6               132.4      0.0  ...             978.4           825.5  360\n",
              "\n",
              "[5 rows x 8 columns]"
            ]
          },
          "metadata": {
            "tags": []
          },
          "execution_count": 12
        }
      ]
    },
    {
      "cell_type": "code",
      "metadata": {
        "id": "LSvxfmz4kRFP",
        "colab_type": "code",
        "colab": {
          "base_uri": "https://localhost:8080/",
          "height": 121
        },
        "outputId": "ad9d16d3-40bb-4bd5-cf4d-114a39b1bc33"
      },
      "source": [
        "target.head()"
      ],
      "execution_count": 13,
      "outputs": [
        {
          "output_type": "execute_result",
          "data": {
            "text/plain": [
              "0    79.99\n",
              "1    61.89\n",
              "2    40.27\n",
              "3    41.05\n",
              "4    44.30\n",
              "Name: Strength, dtype: float64"
            ]
          },
          "metadata": {
            "tags": []
          },
          "execution_count": 13
        }
      ]
    },
    {
      "cell_type": "code",
      "metadata": {
        "id": "q6LQ9CX3kUg8",
        "colab_type": "code",
        "colab": {
          "base_uri": "https://localhost:8080/",
          "height": 35
        },
        "outputId": "fae9bbe8-1361-4044-961e-96e006dcc197"
      },
      "source": [
        "n_cols = predictors.shape[1]\n",
        "n_cols"
      ],
      "execution_count": 14,
      "outputs": [
        {
          "output_type": "execute_result",
          "data": {
            "text/plain": [
              "8"
            ]
          },
          "metadata": {
            "tags": []
          },
          "execution_count": 14
        }
      ]
    },
    {
      "cell_type": "markdown",
      "metadata": {
        "id": "dD3DdICMkc5g",
        "colab_type": "text"
      },
      "source": [
        "Import KERAS"
      ]
    },
    {
      "cell_type": "code",
      "metadata": {
        "id": "YSS00PmIkZ_v",
        "colab_type": "code",
        "colab": {}
      },
      "source": [
        "import keras"
      ],
      "execution_count": 0,
      "outputs": []
    },
    {
      "cell_type": "code",
      "metadata": {
        "id": "6F12ELg8klOA",
        "colab_type": "code",
        "colab": {}
      },
      "source": [
        "from keras.models import Sequential\n",
        "from keras.layers import Dense"
      ],
      "execution_count": 0,
      "outputs": []
    },
    {
      "cell_type": "code",
      "metadata": {
        "id": "89GT3EdikyTz",
        "colab_type": "code",
        "colab": {}
      },
      "source": [
        "# define regression model\n",
        "def regression_model():\n",
        "    # create model\n",
        "    model = Sequential()\n",
        "    model.add(Dense(10, activation='relu', input_shape=(n_cols,)))\n",
        "    model.add(Dense(1))\n",
        "    \n",
        "    # compile model\n",
        "    model.compile(optimizer='adam', loss='mean_squared_error')\n",
        "    return model"
      ],
      "execution_count": 0,
      "outputs": []
    },
    {
      "cell_type": "code",
      "metadata": {
        "id": "L3OB8-DVlVfP",
        "colab_type": "code",
        "colab": {}
      },
      "source": [
        "from sklearn.model_selection import train_test_split"
      ],
      "execution_count": 0,
      "outputs": []
    },
    {
      "cell_type": "code",
      "metadata": {
        "id": "O67NBvA9lg5X",
        "colab_type": "code",
        "colab": {}
      },
      "source": [
        "\n",
        "X_train, X_test, y_train, y_test = train_test_split(predictors, target, test_size=0.3, random_state=42)"
      ],
      "execution_count": 0,
      "outputs": []
    },
    {
      "cell_type": "code",
      "metadata": {
        "id": "xCo3000LlruL",
        "colab_type": "code",
        "colab": {}
      },
      "source": [
        "# build the model\n",
        "model = regression_model()"
      ],
      "execution_count": 0,
      "outputs": []
    },
    {
      "cell_type": "code",
      "metadata": {
        "id": "l_yrr0EUlxLL",
        "colab_type": "code",
        "colab": {
          "base_uri": "https://localhost:8080/",
          "height": 1000
        },
        "outputId": "458fcb20-1688-4182-fc7e-17b19694f3f0"
      },
      "source": [
        "# fit the model\n",
        "epochs = 50\n",
        "model.fit(X_train, y_train, epochs=epochs, verbose=1)"
      ],
      "execution_count": 24,
      "outputs": [
        {
          "output_type": "stream",
          "text": [
            "Epoch 1/50\n",
            "721/721 [==============================] - 0s 414us/step - loss: 14366.2130\n",
            "Epoch 2/50\n",
            "721/721 [==============================] - 0s 40us/step - loss: 5139.2551\n",
            "Epoch 3/50\n",
            "721/721 [==============================] - 0s 37us/step - loss: 4480.4797\n",
            "Epoch 4/50\n",
            "721/721 [==============================] - 0s 39us/step - loss: 3848.9933\n",
            "Epoch 5/50\n",
            "721/721 [==============================] - 0s 39us/step - loss: 3330.3429\n",
            "Epoch 6/50\n",
            "721/721 [==============================] - 0s 39us/step - loss: 2885.9046\n",
            "Epoch 7/50\n",
            "721/721 [==============================] - 0s 48us/step - loss: 2499.2740\n",
            "Epoch 8/50\n",
            "721/721 [==============================] - 0s 36us/step - loss: 2210.0947\n",
            "Epoch 9/50\n",
            "721/721 [==============================] - 0s 38us/step - loss: 1974.5721\n",
            "Epoch 10/50\n",
            "721/721 [==============================] - 0s 35us/step - loss: 1787.8675\n",
            "Epoch 11/50\n",
            "721/721 [==============================] - 0s 37us/step - loss: 1619.9082\n",
            "Epoch 12/50\n",
            "721/721 [==============================] - 0s 37us/step - loss: 1481.2379\n",
            "Epoch 13/50\n",
            "721/721 [==============================] - 0s 37us/step - loss: 1338.5239\n",
            "Epoch 14/50\n",
            "721/721 [==============================] - 0s 35us/step - loss: 1216.1820\n",
            "Epoch 15/50\n",
            "721/721 [==============================] - 0s 37us/step - loss: 1099.5613\n",
            "Epoch 16/50\n",
            "721/721 [==============================] - 0s 36us/step - loss: 993.1168\n",
            "Epoch 17/50\n",
            "721/721 [==============================] - 0s 37us/step - loss: 889.9228\n",
            "Epoch 18/50\n",
            "721/721 [==============================] - 0s 42us/step - loss: 799.4771\n",
            "Epoch 19/50\n",
            "721/721 [==============================] - 0s 47us/step - loss: 711.6212\n",
            "Epoch 20/50\n",
            "721/721 [==============================] - 0s 38us/step - loss: 636.5404\n",
            "Epoch 21/50\n",
            "721/721 [==============================] - 0s 38us/step - loss: 562.4690\n",
            "Epoch 22/50\n",
            "721/721 [==============================] - 0s 37us/step - loss: 507.1779\n",
            "Epoch 23/50\n",
            "721/721 [==============================] - 0s 37us/step - loss: 444.3445\n",
            "Epoch 24/50\n",
            "721/721 [==============================] - 0s 37us/step - loss: 394.3200\n",
            "Epoch 25/50\n",
            "721/721 [==============================] - 0s 39us/step - loss: 353.7771\n",
            "Epoch 26/50\n",
            "721/721 [==============================] - 0s 38us/step - loss: 312.7006\n",
            "Epoch 27/50\n",
            "721/721 [==============================] - 0s 40us/step - loss: 282.2614\n",
            "Epoch 28/50\n",
            "721/721 [==============================] - 0s 37us/step - loss: 254.6598\n",
            "Epoch 29/50\n",
            "721/721 [==============================] - 0s 36us/step - loss: 231.3537\n",
            "Epoch 30/50\n",
            "721/721 [==============================] - 0s 40us/step - loss: 211.6538\n",
            "Epoch 31/50\n",
            "721/721 [==============================] - 0s 40us/step - loss: 194.5485\n",
            "Epoch 32/50\n",
            "721/721 [==============================] - 0s 41us/step - loss: 179.7968\n",
            "Epoch 33/50\n",
            "721/721 [==============================] - 0s 39us/step - loss: 167.8116\n",
            "Epoch 34/50\n",
            "721/721 [==============================] - 0s 40us/step - loss: 159.9016\n",
            "Epoch 35/50\n",
            "721/721 [==============================] - 0s 37us/step - loss: 151.5736\n",
            "Epoch 36/50\n",
            "721/721 [==============================] - 0s 36us/step - loss: 145.1821\n",
            "Epoch 37/50\n",
            "721/721 [==============================] - 0s 35us/step - loss: 140.6729\n",
            "Epoch 38/50\n",
            "721/721 [==============================] - 0s 39us/step - loss: 139.4285\n",
            "Epoch 39/50\n",
            "721/721 [==============================] - 0s 42us/step - loss: 132.4557\n",
            "Epoch 40/50\n",
            "721/721 [==============================] - 0s 45us/step - loss: 131.6840\n",
            "Epoch 41/50\n",
            "721/721 [==============================] - 0s 36us/step - loss: 128.6454\n",
            "Epoch 42/50\n",
            "721/721 [==============================] - 0s 38us/step - loss: 126.9801\n",
            "Epoch 43/50\n",
            "721/721 [==============================] - 0s 36us/step - loss: 125.3660\n",
            "Epoch 44/50\n",
            "721/721 [==============================] - 0s 37us/step - loss: 123.0514\n",
            "Epoch 45/50\n",
            "721/721 [==============================] - 0s 36us/step - loss: 122.4988\n",
            "Epoch 46/50\n",
            "721/721 [==============================] - 0s 35us/step - loss: 121.6531\n",
            "Epoch 47/50\n",
            "721/721 [==============================] - 0s 36us/step - loss: 121.5827\n",
            "Epoch 48/50\n",
            "721/721 [==============================] - 0s 36us/step - loss: 120.2640\n",
            "Epoch 49/50\n",
            "721/721 [==============================] - 0s 34us/step - loss: 118.9765\n",
            "Epoch 50/50\n",
            "721/721 [==============================] - 0s 38us/step - loss: 119.7168\n"
          ],
          "name": "stdout"
        },
        {
          "output_type": "execute_result",
          "data": {
            "text/plain": [
              "<keras.callbacks.callbacks.History at 0x7fa1b8e70748>"
            ]
          },
          "metadata": {
            "tags": []
          },
          "execution_count": 24
        }
      ]
    },
    {
      "cell_type": "code",
      "metadata": {
        "id": "aje08-6YlzqO",
        "colab_type": "code",
        "colab": {
          "base_uri": "https://localhost:8080/",
          "height": 52
        },
        "outputId": "08193f13-d2c8-44c4-e04f-8a70e3d3fc8a"
      },
      "source": [
        "loss_val = model.evaluate(X_test, y_test)\n",
        "y_pred = model.predict(X_test)\n",
        "loss_val"
      ],
      "execution_count": 25,
      "outputs": [
        {
          "output_type": "stream",
          "text": [
            "309/309 [==============================] - 0s 62us/step\n"
          ],
          "name": "stdout"
        },
        {
          "output_type": "execute_result",
          "data": {
            "text/plain": [
              "119.36834795806786"
            ]
          },
          "metadata": {
            "tags": []
          },
          "execution_count": 25
        }
      ]
    },
    {
      "cell_type": "code",
      "metadata": {
        "id": "4C4surqAl5XA",
        "colab_type": "code",
        "colab": {}
      },
      "source": [
        "from sklearn.metrics import mean_squared_error"
      ],
      "execution_count": 0,
      "outputs": []
    },
    {
      "cell_type": "code",
      "metadata": {
        "id": "EQQKKG8zl9CB",
        "colab_type": "code",
        "colab": {
          "base_uri": "https://localhost:8080/",
          "height": 35
        },
        "outputId": "8338dccc-2c0a-40e8-e77f-f8e40fb1eb39"
      },
      "source": [
        "mean_square_error = mean_squared_error(y_test, y_pred)\n",
        "mean = np.mean(mean_square_error)\n",
        "standard_deviation = np.std(mean_square_error)\n",
        "print(mean, standard_deviation)"
      ],
      "execution_count": 27,
      "outputs": [
        {
          "output_type": "stream",
          "text": [
            "119.36834814391553 0.0\n"
          ],
          "name": "stdout"
        }
      ]
    },
    {
      "cell_type": "code",
      "metadata": {
        "id": "IihHTW2LmAki",
        "colab_type": "code",
        "colab": {
          "base_uri": "https://localhost:8080/",
          "height": 1000
        },
        "outputId": "a2a1e5e5-f2e0-4546-ccbc-b2131fcb623a"
      },
      "source": [
        "total_mean_squared_errors = 50\n",
        "epochs = 50\n",
        "mean_squared_errors = []\n",
        "for i in range(0, total_mean_squared_errors):\n",
        "    X_train, X_test, y_train, y_test = train_test_split(predictors, target, test_size=0.3, random_state=i)\n",
        "    model.fit(X_train, y_train, epochs=epochs, verbose=0)\n",
        "    MSE = model.evaluate(X_test, y_test, verbose=0)\n",
        "    print(\"MSE \"+str(i+1)+\": \"+str(MSE))\n",
        "    y_pred = model.predict(X_test)\n",
        "    mean_square_error = mean_squared_error(y_test, y_pred)\n",
        "    mean_squared_errors.append(mean_square_error)\n",
        "\n",
        "mean_squared_errors = np.array(mean_squared_errors)\n",
        "mean = np.mean(mean_squared_errors)\n",
        "standard_deviation = np.std(mean_squared_errors)\n",
        "\n",
        "print('\\n')\n",
        "print(\"Below is the mean and standard deviation of \" +str(total_mean_squared_errors) + \" mean squared errors without normalized data. Total number of epochs for each training is: \" +str(epochs) + \"\\n\")\n",
        "print(\"Mean: \"+str(mean))\n",
        "print(\"Standard Deviation: \"+str(standard_deviation))"
      ],
      "execution_count": 29,
      "outputs": [
        {
          "output_type": "stream",
          "text": [
            "MSE 1: 95.86790440383467\n",
            "MSE 2: 121.99047254050048\n",
            "MSE 3: 109.06636272047716\n",
            "MSE 4: 122.38706580103408\n",
            "MSE 5: 119.90092957135543\n",
            "MSE 6: 106.89289747318404\n",
            "MSE 7: 130.32191733943606\n",
            "MSE 8: 104.1773302886864\n",
            "MSE 9: 123.5047502239931\n",
            "MSE 10: 111.02523497547533\n",
            "MSE 11: 102.92687479654948\n",
            "MSE 12: 103.56008985204605\n",
            "MSE 13: 112.78549930115734\n",
            "MSE 14: 113.05206730913577\n",
            "MSE 15: 115.79358853337062\n",
            "MSE 16: 112.08279907819137\n",
            "MSE 17: 103.57928165571589\n",
            "MSE 18: 95.09705700920624\n",
            "MSE 19: 93.97495600629392\n",
            "MSE 20: 108.9849027615149\n",
            "MSE 21: 77.22564324437607\n",
            "MSE 22: 67.827707914087\n",
            "MSE 23: 50.28157324929839\n",
            "MSE 24: 54.176847939352385\n",
            "MSE 25: 49.66820239712119\n",
            "MSE 26: 53.87960390751416\n",
            "MSE 27: 50.83355041306381\n",
            "MSE 28: 44.403204056823135\n",
            "MSE 29: 53.98779927719758\n",
            "MSE 30: 51.356492360432945\n",
            "MSE 31: 61.37714272409581\n",
            "MSE 32: 54.3998540612872\n",
            "MSE 33: 57.89465443138938\n",
            "MSE 34: 50.47834851903823\n",
            "MSE 35: 52.336778091381284\n",
            "MSE 36: 52.111585228188524\n",
            "MSE 37: 53.459082804065694\n",
            "MSE 38: 53.38345455428929\n",
            "MSE 39: 49.66592839312013\n",
            "MSE 40: 47.69697137480801\n",
            "MSE 41: 63.32837156030352\n",
            "MSE 42: 47.12084190590868\n",
            "MSE 43: 70.28779747725305\n",
            "MSE 44: 53.88564372139841\n",
            "MSE 45: 68.6504406234593\n",
            "MSE 46: 55.98317572831336\n",
            "MSE 47: 51.8142572298019\n",
            "MSE 48: 53.851698421737524\n",
            "MSE 49: 54.6961037719134\n",
            "MSE 50: 71.88648658431464\n",
            "\n",
            "\n",
            "Below is the mean and standard deviation of 50 mean squared errors without normalized data. Total number of epochs for each training is: 50\n",
            "\n",
            "Mean: 77.69842409957835\n",
            "Standard Deviation: 28.03105641478107\n"
          ],
          "name": "stdout"
        }
      ]
    },
    {
      "cell_type": "code",
      "metadata": {
        "id": "2Mf6Pk4DmH3M",
        "colab_type": "code",
        "colab": {}
      },
      "source": [
        ""
      ],
      "execution_count": 0,
      "outputs": []
    }
  ]
}